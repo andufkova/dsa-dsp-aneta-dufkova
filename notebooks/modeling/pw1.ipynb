{
 "cells": [
  {
   "cell_type": "markdown",
   "id": "50e52d62",
   "metadata": {},
   "source": [
    "# Scores"
   ]
  },
  {
   "cell_type": "markdown",
   "id": "4460071f",
   "metadata": {},
   "source": [
    "- dummy-model: 5.55666 \n",
    "- baseline model with 5 most correlated numeric features: 1.03676\n",
    "- baseline model + 5 most correlated numeric features + not null categorical data: 1.22499\n",
    "- Random Forest + 5 most correlated numeric features + not null categorical data: 1.00179\n",
    "- Random Forest + 5 most correlated numeric features + 117 most important categorial columns: 1.00156"
   ]
  },
  {
   "cell_type": "markdown",
   "id": "4de87835",
   "metadata": {},
   "source": [
    "- The goal of this notebook is to create a first pipeline for the model exploration. This is important if we want to be able to get feedback on the different modeling steps we will be doing (pre-processing, feature engineering, etc) and to know if they are improving the model performance or not.\n",
    "\n",
    "- This pipeline is composed of:\n",
    "    - Dataset loading\n",
    "    - The minimum preprocessing or feature engineering required to prepare the data for the model (eg: remove misssing values)\n",
    "    - Modeling (a first baseline model)\n",
    "    - Evaluation\n",
    "    - Preparing submission file to the kaggle competition"
   ]
  },
  {
   "cell_type": "code",
   "execution_count": null,
   "id": "70f90173",
   "metadata": {},
   "outputs": [],
   "source": [
    "from pathlib import Path\n",
    "import pandas as pd\n",
    "import copy\n",
    "\n",
    "pd.set_option('display.max_columns', None)"
   ]
  },
  {
   "cell_type": "markdown",
   "id": "11f80e70",
   "metadata": {},
   "source": [
    "# Dataset"
   ]
  },
  {
   "cell_type": "markdown",
   "id": "8e8a6a8a",
   "metadata": {},
   "source": [
    "- Download the data"
   ]
  },
  {
   "cell_type": "code",
   "execution_count": null,
   "id": "f8b104bf",
   "metadata": {},
   "outputs": [],
   "source": [
    "!kaggle competitions download -c house-prices-advanced-regression-techniques\n",
    "!mkdir ../../data/house-prices\n",
    "!unzip -o house-prices-advanced-regression-techniques.zip -d ../../data/house-prices\n",
    "!rm house-prices-advanced-regression-techniques.zip"
   ]
  },
  {
   "cell_type": "code",
   "execution_count": null,
   "id": "92b07a52",
   "metadata": {
    "scrolled": false
   },
   "outputs": [],
   "source": [
    "!ls ../data/house-prices"
   ]
  },
  {
   "cell_type": "markdown",
   "id": "eae8840a",
   "metadata": {},
   "source": [
    "- Read data"
   ]
  },
  {
   "cell_type": "code",
   "execution_count": null,
   "id": "cf5d456c",
   "metadata": {},
   "outputs": [],
   "source": [
    "ROOT_DIR = Path('.').resolve().parents[1].absolute()\n",
    "DATA_DIR = ROOT_DIR / 'data' / 'house-prices'\n",
    "\n",
    "target_column = 'SalePrice'"
   ]
  },
  {
   "cell_type": "code",
   "execution_count": null,
   "id": "a076f58b",
   "metadata": {
    "scrolled": false
   },
   "outputs": [],
   "source": [
    "df_master = pd.read_csv(DATA_DIR / 'train.csv', index_col='Id')\n",
    "df_master.sample(5)"
   ]
  },
  {
   "cell_type": "markdown",
   "id": "a6e5e57e",
   "metadata": {},
   "source": [
    "# Pre-processing"
   ]
  },
  {
   "cell_type": "markdown",
   "id": "e284657a",
   "metadata": {},
   "source": [
    "## Continuous data"
   ]
  },
  {
   "cell_type": "code",
   "execution_count": null,
   "id": "036ee5b0",
   "metadata": {
    "scrolled": true
   },
   "outputs": [],
   "source": [
    "df_continuous = df_master.select_dtypes(include='number')\n",
    "df_continuous.head()"
   ]
  },
  {
   "cell_type": "markdown",
   "id": "9940f6bc",
   "metadata": {},
   "source": [
    "- Drop rows with null values"
   ]
  },
  {
   "cell_type": "code",
   "execution_count": null,
   "id": "5dd87ae7",
   "metadata": {},
   "outputs": [],
   "source": [
    "df_continuous.isna().sum()"
   ]
  },
  {
   "cell_type": "code",
   "execution_count": null,
   "id": "2097faaf",
   "metadata": {},
   "outputs": [],
   "source": [
    "df_continuous = df_continuous.dropna()"
   ]
  },
  {
   "cell_type": "code",
   "execution_count": null,
   "id": "5ccbaf5c",
   "metadata": {},
   "outputs": [],
   "source": [
    "highest_corr = df_continuous.corrwith(df_continuous[target_column]).sort_values(ascending=False)\n",
    "highest_corr.head()"
   ]
  },
  {
   "cell_type": "code",
   "execution_count": null,
   "id": "a4b3d549",
   "metadata": {},
   "outputs": [],
   "source": [
    "top = list(highest_corr[1:6].index)"
   ]
  },
  {
   "cell_type": "code",
   "execution_count": null,
   "id": "267cc1c3",
   "metadata": {},
   "outputs": [],
   "source": [
    "top"
   ]
  },
  {
   "cell_type": "code",
   "execution_count": null,
   "id": "fc8ed53e",
   "metadata": {},
   "outputs": [],
   "source": [
    "top_target = copy.deepcopy(top)"
   ]
  },
  {
   "cell_type": "code",
   "execution_count": null,
   "id": "7ad869e3",
   "metadata": {},
   "outputs": [],
   "source": [
    "top_target"
   ]
  },
  {
   "cell_type": "code",
   "execution_count": null,
   "id": "ec08cea2",
   "metadata": {},
   "outputs": [],
   "source": [
    "top_target.append(target_column)"
   ]
  },
  {
   "cell_type": "code",
   "execution_count": null,
   "id": "eb505974",
   "metadata": {},
   "outputs": [],
   "source": [
    "top_target"
   ]
  },
  {
   "cell_type": "code",
   "execution_count": null,
   "id": "bbce4fe8",
   "metadata": {},
   "outputs": [],
   "source": [
    "df_continuous = df_continuous[top_target]"
   ]
  },
  {
   "cell_type": "markdown",
   "id": "6d2c6e28",
   "metadata": {},
   "source": [
    "## Categorical data"
   ]
  },
  {
   "cell_type": "code",
   "execution_count": null,
   "id": "4e5c0199",
   "metadata": {},
   "outputs": [],
   "source": [
    "df_categorical = df_master.select_dtypes(include='dtype')\n",
    "df_categorical.head()\n",
    "df_categorical.shape"
   ]
  },
  {
   "cell_type": "code",
   "execution_count": null,
   "id": "9198d6d5",
   "metadata": {},
   "outputs": [],
   "source": [
    "df_categorical.isna().sum()"
   ]
  },
  {
   "cell_type": "code",
   "execution_count": null,
   "id": "1867fa45",
   "metadata": {},
   "outputs": [],
   "source": [
    "cat_data_cols = df_categorical.columns[df_categorical.isna().any()].tolist()\n",
    "cat_data_cols"
   ]
  },
  {
   "cell_type": "code",
   "execution_count": null,
   "id": "df78d9f4",
   "metadata": {},
   "outputs": [],
   "source": [
    "df_categorical = df_categorical.drop(cat_data_cols, axis=1)\n",
    "df_categorical.shape"
   ]
  },
  {
   "cell_type": "code",
   "execution_count": null,
   "id": "d6ac46e1",
   "metadata": {},
   "outputs": [],
   "source": [
    "df_categorical = df_categorical.dropna()\n",
    "#df_categorical = df_categorical.fillna(value='None')\n",
    "df_categorical.shape"
   ]
  },
  {
   "cell_type": "code",
   "execution_count": null,
   "id": "8895ae4f",
   "metadata": {},
   "outputs": [],
   "source": [
    "df_categorical.isna().sum()"
   ]
  },
  {
   "cell_type": "code",
   "execution_count": null,
   "id": "af877c50",
   "metadata": {},
   "outputs": [],
   "source": [
    "df_categorical = pd.get_dummies(df_categorical)\n",
    "df_categorical.shape"
   ]
  },
  {
   "cell_type": "code",
   "execution_count": null,
   "id": "2330deaa",
   "metadata": {},
   "outputs": [],
   "source": [
    "df_categorical.head()"
   ]
  },
  {
   "cell_type": "markdown",
   "id": "6d7d4cfd",
   "metadata": {},
   "source": [
    "# Model training"
   ]
  },
  {
   "cell_type": "markdown",
   "id": "99f85923",
   "metadata": {},
   "source": [
    "- Split data in train and test sets"
   ]
  },
  {
   "cell_type": "code",
   "execution_count": null,
   "id": "f9c27d0d",
   "metadata": {},
   "outputs": [],
   "source": [
    "print(df_categorical.shape)\n",
    "print(df_continuous.shape)"
   ]
  },
  {
   "cell_type": "markdown",
   "id": "e0e36143",
   "metadata": {},
   "source": [
    "Manually copied least important features"
   ]
  },
  {
   "cell_type": "code",
   "execution_count": null,
   "id": "f52d8181",
   "metadata": {},
   "outputs": [],
   "source": [
    "l_important = ['OverallQual', 'GrLivArea', 'GarageCars', 'GarageArea', 'TotalBsmtSF',\n",
    "       'MSZoning_C (all)', 'MSZoning_FV', 'MSZoning_RH', 'MSZoning_RL',\n",
    "       'MSZoning_RM', 'Street_Grvl', 'Street_Pave', 'LotShape_IR1',\n",
    "       'LotShape_IR2', 'LotShape_IR3', 'LotShape_Reg', 'LandContour_Bnk',\n",
    "       'LandContour_HLS', 'LandContour_Low', 'LandContour_Lvl',\n",
    "       'Utilities_AllPub', 'Utilities_NoSeWa', 'LotConfig_Corner',\n",
    "       'LotConfig_CulDSac', 'LotConfig_FR2', 'LotConfig_FR3',\n",
    "       'LotConfig_Inside', 'LandSlope_Gtl', 'LandSlope_Mod', 'LandSlope_Sev',\n",
    "       'Neighborhood_Blmngtn', 'Neighborhood_Blueste', 'Neighborhood_BrDale',\n",
    "       'Neighborhood_BrkSide', 'Neighborhood_ClearCr', 'Neighborhood_CollgCr',\n",
    "       'Neighborhood_Crawfor', 'Neighborhood_Edwards', 'Neighborhood_Gilbert',\n",
    "       'Neighborhood_IDOTRR', 'Neighborhood_MeadowV', 'Neighborhood_Mitchel',\n",
    "       'Neighborhood_NAmes', 'Neighborhood_NPkVill', 'Neighborhood_NWAmes',\n",
    "       'Neighborhood_NoRidge', 'Neighborhood_NridgHt', 'Neighborhood_OldTown',\n",
    "       'Neighborhood_SWISU', 'Neighborhood_Sawyer', 'Neighborhood_SawyerW',\n",
    "       'Neighborhood_Somerst', 'Neighborhood_StoneBr', 'Neighborhood_Timber',\n",
    "       'Neighborhood_Veenker', 'Condition1_Artery', 'Condition1_Feedr',\n",
    "       'Condition1_Norm', 'Condition1_PosA', 'Condition1_PosN',\n",
    "       'Condition1_RRAe', 'Condition1_RRAn', 'Condition1_RRNe',\n",
    "       'Condition1_RRNn', 'Condition2_Artery', 'Condition2_Feedr',\n",
    "       'Condition2_Norm', 'Condition2_PosA', 'Condition2_PosN',\n",
    "       'Condition2_RRAe']"
   ]
  },
  {
   "cell_type": "code",
   "execution_count": null,
   "id": "80e05a26",
   "metadata": {},
   "outputs": [],
   "source": [
    "# dummy model\n",
    "#df_final = df_continuous\n",
    "# baseline model\n",
    "# df_final = df_continuous\n",
    "# imroved model - both categorical and continuous data\n",
    "df_final = pd.merge(df_continuous, df_categorical, left_index=True, right_index=True)\n",
    "df_final.drop(l_important, axis=1)\n",
    "X, y = df_final.drop(target_column, axis=1), df_final[target_column]\n",
    "X.shape, y.shape"
   ]
  },
  {
   "cell_type": "code",
   "execution_count": null,
   "id": "4658edd9",
   "metadata": {},
   "outputs": [],
   "source": [
    "from sklearn.model_selection import train_test_split\n",
    "\n",
    "X_train, X_test, y_train, y_test = train_test_split(X, y, test_size=0.2)\n",
    "X_train.shape, X_test.shape"
   ]
  },
  {
   "cell_type": "markdown",
   "id": "25649e6b",
   "metadata": {},
   "source": [
    "- Train a model"
   ]
  },
  {
   "cell_type": "code",
   "execution_count": null,
   "id": "c35a4140",
   "metadata": {},
   "outputs": [],
   "source": [
    "#from sklearn.linear_model import LinearRegression\n",
    "\n",
    "#model = LinearRegression()\n",
    "#model.fit(X_train, y_train)"
   ]
  },
  {
   "cell_type": "code",
   "execution_count": null,
   "id": "2cc8d79f",
   "metadata": {},
   "outputs": [],
   "source": [
    "from sklearn.ensemble import RandomForestRegressor\n",
    "\n",
    "model = RandomForestRegressor(max_depth=6, n_estimators=140)\n",
    "model.fit(X_train, y_train)"
   ]
  },
  {
   "cell_type": "markdown",
   "id": "cfd745f4",
   "metadata": {},
   "source": [
    "# Model evalution"
   ]
  },
  {
   "cell_type": "code",
   "execution_count": null,
   "id": "46bfe61d",
   "metadata": {},
   "outputs": [],
   "source": [
    "import numpy as np\n",
    "from sklearn.metrics import mean_squared_log_error\n",
    "\n",
    "def compute_rmsle(y_test: np.ndarray, y_pred: np.ndarray, precision: int = 2) -> float:\n",
    "    rmsle = np.sqrt(mean_squared_log_error(y_test, y_pred))\n",
    "    return round(rmsle, precision)"
   ]
  },
  {
   "cell_type": "code",
   "execution_count": null,
   "id": "1b7b3b69",
   "metadata": {},
   "outputs": [],
   "source": [
    "y_pred = model.predict(X_test)\n",
    "# Replace negative predictions with 0\n",
    "y_pred = np.where(y_pred < 0, 0, y_pred)\n",
    "compute_rmsle(y_test, y_pred)"
   ]
  },
  {
   "cell_type": "markdown",
   "id": "4b1bf3a6",
   "metadata": {},
   "source": [
    "## Feature importances"
   ]
  },
  {
   "cell_type": "markdown",
   "id": "4fa9fdff",
   "metadata": {},
   "source": [
    "Less is sometimes better, I wanted to remove some columns, which are not important for the model."
   ]
  },
  {
   "cell_type": "code",
   "execution_count": null,
   "id": "7fe801b2",
   "metadata": {},
   "outputs": [],
   "source": [
    "feats = {}\n",
    "for feature, importance in zip(X_test.columns, model.feature_importances_):\n",
    "    feats[feature] = importance\n",
    "\n",
    "importances = pd.DataFrame.from_dict(feats, orient='index').rename(columns={0: 'importance'})"
   ]
  },
  {
   "cell_type": "code",
   "execution_count": null,
   "id": "dfe01900",
   "metadata": {},
   "outputs": [],
   "source": [
    "importances.shape"
   ]
  },
  {
   "cell_type": "markdown",
   "id": "436f18e1",
   "metadata": {},
   "source": [
    "The least important columns. Can be deleted in next model retraining."
   ]
  },
  {
   "cell_type": "code",
   "execution_count": null,
   "id": "1ff30f0f",
   "metadata": {},
   "outputs": [],
   "source": [
    "importances[:70].index"
   ]
  },
  {
   "cell_type": "markdown",
   "id": "f6d7c8f1",
   "metadata": {},
   "source": [
    "# Inference"
   ]
  },
  {
   "cell_type": "markdown",
   "id": "1480bea2",
   "metadata": {},
   "source": [
    "- Read data"
   ]
  },
  {
   "cell_type": "code",
   "execution_count": null,
   "id": "fe92e36f",
   "metadata": {},
   "outputs": [],
   "source": [
    "inference_df = pd.read_csv(DATA_DIR / 'test.csv', index_col='Id')\n",
    "inference_df.head()"
   ]
  },
  {
   "cell_type": "markdown",
   "id": "0b604d37",
   "metadata": {},
   "source": [
    "- Feature engineering"
   ]
  },
  {
   "cell_type": "code",
   "execution_count": null,
   "id": "2eb20155",
   "metadata": {},
   "outputs": [],
   "source": [
    "continuous_inference_df = inference_df.select_dtypes(include='number')\n",
    "continuous_inference_df = continuous_inference_df[top]\n",
    "continuous_inference_df.head()"
   ]
  },
  {
   "cell_type": "code",
   "execution_count": null,
   "id": "0bb45ec4",
   "metadata": {},
   "outputs": [],
   "source": [
    "continuous_inference_df = continuous_inference_df.dropna()"
   ]
  },
  {
   "cell_type": "code",
   "execution_count": null,
   "id": "f617e5d6",
   "metadata": {},
   "outputs": [],
   "source": [
    "continuous_inference_df.shape"
   ]
  },
  {
   "cell_type": "code",
   "execution_count": null,
   "id": "09698544",
   "metadata": {},
   "outputs": [],
   "source": [
    "categorical_inference_df = inference_df.select_dtypes(include='dtype')\n",
    "print(categorical_inference_df.shape)\n",
    "categorical_inference_df = categorical_inference_df.drop(cat_data_cols, axis=1)\n",
    "print(categorical_inference_df.shape)\n",
    "categorical_inference_df = categorical_inference_df.dropna()\n",
    "categorical_inference_df = pd.get_dummies(categorical_inference_df)\n",
    "categorical_inference_df = categorical_inference_df.reindex(columns = df_categorical.columns, fill_value=0)\n",
    "print(categorical_inference_df.shape)\n",
    "#categorical_inference_df.head()\n"
   ]
  },
  {
   "cell_type": "code",
   "execution_count": null,
   "id": "417202af",
   "metadata": {},
   "outputs": [],
   "source": [
    "total_inference_df = pd.merge(continuous_inference_df, categorical_inference_df, left_index=True, right_index=True)"
   ]
  },
  {
   "cell_type": "code",
   "execution_count": null,
   "id": "39bef24e",
   "metadata": {},
   "outputs": [],
   "source": [
    "total_inference_df.head()\n",
    "total_inference_df.shape"
   ]
  },
  {
   "cell_type": "markdown",
   "id": "3d4ac338",
   "metadata": {},
   "source": [
    "- Make inference"
   ]
  },
  {
   "cell_type": "code",
   "execution_count": null,
   "id": "d071c6c3",
   "metadata": {},
   "outputs": [],
   "source": [
    "#predictions = model.predict(continuous_inference_df)\n",
    "predictions = model.predict(total_inference_df)\n",
    "predictions"
   ]
  },
  {
   "cell_type": "code",
   "execution_count": null,
   "id": "20358e95",
   "metadata": {},
   "outputs": [],
   "source": [
    "# Check if there is negative predictions, if so get their indexs\n",
    "np.where(predictions < 0)"
   ]
  },
  {
   "cell_type": "code",
   "execution_count": null,
   "id": "0cbbbbdc",
   "metadata": {},
   "outputs": [],
   "source": [
    "predictions[1109]"
   ]
  },
  {
   "cell_type": "code",
   "execution_count": null,
   "id": "d52c1e92",
   "metadata": {},
   "outputs": [],
   "source": [
    "# Replace negative predictions with 0\n",
    "predictions = np.where(predictions < 0, 0, predictions)\n",
    "np.where(predictions < 0)"
   ]
  },
  {
   "cell_type": "markdown",
   "id": "411c1d65",
   "metadata": {},
   "source": [
    "# Submission\n",
    "- [Kaggle AAPI usage](https://www.kaggle.com/docs/api)"
   ]
  },
  {
   "cell_type": "markdown",
   "id": "8d4fe202",
   "metadata": {},
   "source": [
    "- Prepare submission file"
   ]
  },
  {
   "cell_type": "code",
   "execution_count": null,
   "id": "eb8c9362",
   "metadata": {
    "scrolled": true
   },
   "outputs": [],
   "source": [
    "#continuous_inference_df.head()\n",
    "total_inference_df.head()"
   ]
  },
  {
   "cell_type": "code",
   "execution_count": null,
   "id": "dad9ccde",
   "metadata": {},
   "outputs": [],
   "source": [
    "total_inference_df.shape"
   ]
  },
  {
   "cell_type": "code",
   "execution_count": null,
   "id": "92bf3eac",
   "metadata": {},
   "outputs": [],
   "source": [
    "predictions.shape"
   ]
  },
  {
   "cell_type": "code",
   "execution_count": null,
   "id": "d87cc695",
   "metadata": {
    "scrolled": true
   },
   "outputs": [],
   "source": [
    "#continuous_inference_df[target_column] = predictions\n",
    "#continuous_inference_df.head()\n",
    "\n",
    "total_inference_df[target_column] = predictions\n",
    "total_inference_df.head()"
   ]
  },
  {
   "cell_type": "markdown",
   "id": "bb034a97",
   "metadata": {},
   "source": [
    "- To do the submission, we need to have a prediction for all the samples. However, because we dropped the samples with missing continuous values, we don't have them in `continuous_inference_df`. Therefore, we need to get their ids from the original dataframe `inference_df` and set their predictions to 0."
   ]
  },
  {
   "cell_type": "code",
   "execution_count": null,
   "id": "1fa75f26",
   "metadata": {},
   "outputs": [],
   "source": [
    "#continuous_inference_df = continuous_inference_df[[target_column]].reset_index()\n",
    "#continuous_inference_df.head()\n",
    "total_inference_df = total_inference_df[[target_column]].reset_index()\n",
    "total_inference_df.head()"
   ]
  },
  {
   "cell_type": "code",
   "execution_count": null,
   "id": "75e51eec",
   "metadata": {},
   "outputs": [],
   "source": [
    "inference_ids_df = inference_df.reset_index()[['Id']]\n",
    "inference_ids_df.head()"
   ]
  },
  {
   "cell_type": "code",
   "execution_count": null,
   "id": "54bcce14",
   "metadata": {},
   "outputs": [],
   "source": [
    "f'Number of missing predictions = {len(inference_ids_df) - len(continuous_inference_df)}'"
   ]
  },
  {
   "cell_type": "code",
   "execution_count": null,
   "id": "0607e6db",
   "metadata": {},
   "outputs": [],
   "source": [
    "#submission_df = inference_ids_df.merge(continuous_inference_df, on='Id', how='left')\n",
    "submission_df = inference_ids_df.merge(total_inference_df, on='Id', how='left')\n",
    "submission_df.head()"
   ]
  },
  {
   "cell_type": "markdown",
   "id": "cd7fc1db",
   "metadata": {},
   "source": [
    "- Fill missing predictions (records we dropped because they had missing values in continuous columns)"
   ]
  },
  {
   "cell_type": "code",
   "execution_count": null,
   "id": "219c5160",
   "metadata": {},
   "outputs": [],
   "source": [
    "# Validate the number of missing predictions\n",
    "#submission_df[target_column].isna().sum() == len(inference_ids_df) - len(continuous_inference_df)\n",
    "submission_df[target_column].isna().sum() == len(inference_ids_df) - len(total_inference_df)"
   ]
  },
  {
   "cell_type": "code",
   "execution_count": null,
   "id": "98e7d5f2",
   "metadata": {},
   "outputs": [],
   "source": [
    "# Fill missing values with 0\n",
    "submission_df[target_column] = submission_df[target_column].fillna(0)\n",
    "submission_df[target_column].isna().sum()"
   ]
  },
  {
   "cell_type": "code",
   "execution_count": null,
   "id": "a6b27364",
   "metadata": {},
   "outputs": [],
   "source": [
    "submission_df.shape"
   ]
  },
  {
   "cell_type": "code",
   "execution_count": null,
   "id": "c03a2bf1",
   "metadata": {},
   "outputs": [],
   "source": [
    " # Save submission file\n",
    "submission_file_path = DATA_DIR / 'submission.csv'\n",
    "submission_df.to_csv(submission_file_path, index=False)"
   ]
  },
  {
   "cell_type": "code",
   "execution_count": null,
   "id": "61625a64",
   "metadata": {
    "scrolled": true
   },
   "outputs": [],
   "source": [
    "pd.read_csv(DATA_DIR / 'submission.csv').head()"
   ]
  },
  {
   "cell_type": "markdown",
   "id": "04f4fff8",
   "metadata": {},
   "source": [
    "- Make submission"
   ]
  },
  {
   "cell_type": "code",
   "execution_count": null,
   "id": "b3bb9d40",
   "metadata": {},
   "outputs": [],
   "source": [
    "# Used to prevent making a submission in case of `notebook run-all`\n",
    "assert False"
   ]
  },
  {
   "cell_type": "code",
   "execution_count": null,
   "id": "db9be9c2",
   "metadata": {},
   "outputs": [],
   "source": [
    "!kaggle competitions submit -c house-prices-advanced-regression-techniques -f ../data/house-prices/submission.csv -m dummy-model"
   ]
  },
  {
   "cell_type": "code",
   "execution_count": null,
   "id": "17ffb80c",
   "metadata": {},
   "outputs": [],
   "source": [
    "!kaggle competitions submissions -c house-prices-advanced-regression-techniques"
   ]
  }
 ],
 "metadata": {
  "kernelspec": {
   "display_name": "Python 3",
   "language": "python",
   "name": "python3"
  },
  "language_info": {
   "codemirror_mode": {
    "name": "ipython",
    "version": 3
   },
   "file_extension": ".py",
   "mimetype": "text/x-python",
   "name": "python",
   "nbconvert_exporter": "python",
   "pygments_lexer": "ipython3",
   "version": "3.8.3"
  },
  "toc": {
   "base_numbering": 1,
   "nav_menu": {},
   "number_sections": true,
   "sideBar": true,
   "skip_h1_title": false,
   "title_cell": "Table of Contents",
   "title_sidebar": "Contents",
   "toc_cell": false,
   "toc_position": {},
   "toc_section_display": true,
   "toc_window_display": false
  }
 },
 "nbformat": 4,
 "nbformat_minor": 5
}
