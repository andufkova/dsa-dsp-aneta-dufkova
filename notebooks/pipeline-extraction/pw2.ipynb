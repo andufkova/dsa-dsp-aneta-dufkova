{
 "cells": [
  {
   "cell_type": "code",
   "execution_count": 1,
   "id": "21c9ee80",
   "metadata": {},
   "outputs": [],
   "source": [
    "from pathlib import Path\n",
    "import pandas as pd\n",
    "import random\n",
    "\n",
    "pd.set_option('display.max_columns', None)"
   ]
  },
  {
   "cell_type": "code",
   "execution_count": 2,
   "id": "3ab36200",
   "metadata": {},
   "outputs": [],
   "source": [
    "import sys\n",
    "sys.path.append(\"../../\")\n",
    "\n",
    "from app.train import train_model\n",
    "from app.inference import make_prediction\n",
    "from app.kaggle import make_submission"
   ]
  },
  {
   "cell_type": "code",
   "execution_count": 3,
   "id": "413219f7",
   "metadata": {},
   "outputs": [],
   "source": [
    "ROOT_DIR = Path('.').resolve().parents[1].absolute()\n",
    "DATA_DIR = ROOT_DIR / 'data' / 'house-prices'\n",
    "MODELS_DIR = ROOT_DIR / 'models'\n",
    "\n",
    "target_column = 'SalePrice'"
   ]
  },
  {
   "cell_type": "code",
   "execution_count": 4,
   "id": "f12bee08",
   "metadata": {},
   "outputs": [],
   "source": [
    "random.seed(8)"
   ]
  },
  {
   "cell_type": "markdown",
   "id": "7579222d",
   "metadata": {},
   "source": [
    "# Model training"
   ]
  },
  {
   "cell_type": "code",
   "execution_count": 5,
   "id": "8ca431f4",
   "metadata": {},
   "outputs": [],
   "source": [
    "df_master = pd.read_csv(DATA_DIR / 'train.csv', index_col='Id')\n",
    "df = df_master.copy()"
   ]
  },
  {
   "cell_type": "code",
   "execution_count": 6,
   "id": "e6032641",
   "metadata": {},
   "outputs": [],
   "source": [
    "train_dict = train_model(df, target_column, ROOT_DIR)"
   ]
  },
  {
   "cell_type": "markdown",
   "id": "d1d18da6",
   "metadata": {},
   "source": [
    "# Model inference"
   ]
  },
  {
   "cell_type": "code",
   "execution_count": 7,
   "id": "cb0da896",
   "metadata": {},
   "outputs": [],
   "source": [
    "df_inference = pd.read_csv(DATA_DIR / 'test.csv', index_col='Id')"
   ]
  },
  {
   "cell_type": "code",
   "execution_count": 8,
   "id": "84067bc6",
   "metadata": {},
   "outputs": [],
   "source": [
    "predictions = make_prediction(df_inference, train_dict)"
   ]
  },
  {
   "cell_type": "markdown",
   "id": "89c768bb",
   "metadata": {},
   "source": [
    "# Kaggle submission"
   ]
  },
  {
   "cell_type": "code",
   "execution_count": 9,
   "id": "4793b344",
   "metadata": {},
   "outputs": [],
   "source": [
    "kaggle_score = make_submission('submission.csv', df_inference, target_column, DATA_DIR, train_dict)"
   ]
  },
  {
   "cell_type": "code",
   "execution_count": 10,
   "id": "1925b6e8",
   "metadata": {},
   "outputs": [
    {
     "data": {
      "text/plain": [
       "0.67648"
      ]
     },
     "execution_count": 10,
     "metadata": {},
     "output_type": "execute_result"
    }
   ],
   "source": [
    "kaggle_score"
   ]
  }
 ],
 "metadata": {
  "kernelspec": {
   "display_name": "Python 3",
   "language": "python",
   "name": "python3"
  },
  "language_info": {
   "codemirror_mode": {
    "name": "ipython",
    "version": 3
   },
   "file_extension": ".py",
   "mimetype": "text/x-python",
   "name": "python",
   "nbconvert_exporter": "python",
   "pygments_lexer": "ipython3",
   "version": "3.8.3"
  },
  "toc": {
   "base_numbering": 1,
   "nav_menu": {},
   "number_sections": true,
   "sideBar": true,
   "skip_h1_title": false,
   "title_cell": "Table of Contents",
   "title_sidebar": "Contents",
   "toc_cell": false,
   "toc_position": {},
   "toc_section_display": true,
   "toc_window_display": false
  }
 },
 "nbformat": 4,
 "nbformat_minor": 5
}
